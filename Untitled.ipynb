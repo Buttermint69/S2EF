{
 "cells": [
  {
   "cell_type": "code",
   "execution_count": 1,
   "id": "46aaaa9e",
   "metadata": {},
   "outputs": [],
   "source": [
    "import torch\n",
    "from basis_func import Basis\n",
    "import torch_geometric\n",
    "import ase\n",
    "from util_funcs import AtomsToGraphs\n",
    "import util_funcs\n",
    "from torch_geometric.utils import to_networkx,from_networkx, degree\n",
    "import numpy as np\n",
    "import os\n",
    "from tqdm import tqdm\n",
    "from embeddings import CONTINUOUS_EMBEDDINGS as c_embd, ATOMIC_RADII as a_rad\n",
    "from torch_geometric.loader import DataLoader\n",
    "from torch_geometric.nn import GATv2Conv, SAGEConv\n",
    "from torch.nn import ModuleList\n",
    "import torch.nn.functional as F\n",
    "from matplotlib import pyplot as plt\n",
    "from model import MAELoss\n",
    "from torch.cuda.amp import GradScaler, autocast\n",
    "import torchvision\n",
    "from torch.utils.tensorboard import SummaryWriter\n",
    "import seaborn as sns"
   ]
  },
  {
   "cell_type": "code",
   "execution_count": 2,
   "id": "f0ef003b",
   "metadata": {},
   "outputs": [],
   "source": [
    "writer = SummaryWriter('runs/experiment_1')\n"
   ]
  },
  {
   "cell_type": "code",
   "execution_count": 3,
   "id": "80daadc3",
   "metadata": {},
   "outputs": [
    {
     "name": "stderr",
     "output_type": "stream",
     "text": [
      "100%|██████████████████████████████████████████████████████████████████████████████████| 10/10 [00:00<00:00, 12.99it/s]\n"
     ]
    }
   ],
   "source": [
    "graph_data = [torch.load(os.getcwd()+f\"/preprocessed_dir/0/data_{i}.pt\") for i in tqdm(range(0,10))]\n",
    "loader = DataLoader(graph_data, batch_size= 4, shuffle=True)"
   ]
  },
  {
   "cell_type": "code",
   "execution_count": 2,
   "id": "2c893396",
   "metadata": {},
   "outputs": [
    {
     "data": {
      "text/html": [
       "\n",
       "      <iframe id=\"tensorboard-frame-6074be1a39f6eff8\" width=\"100%\" height=\"800\" frameborder=\"0\">\n",
       "      </iframe>\n",
       "      <script>\n",
       "        (function() {\n",
       "          const frame = document.getElementById(\"tensorboard-frame-6074be1a39f6eff8\");\n",
       "          const url = new URL(\"/\", window.location);\n",
       "          const port = 6006;\n",
       "          if (port) {\n",
       "            url.port = port;\n",
       "          }\n",
       "          frame.src = url;\n",
       "        })();\n",
       "      </script>\n",
       "    "
      ],
      "text/plain": [
       "<IPython.core.display.HTML object>"
      ]
     },
     "metadata": {},
     "output_type": "display_data"
    }
   ],
   "source": [
    "%load_ext tensorboard\n",
    "%tensorboard --logdir=runs"
   ]
  },
  {
   "cell_type": "code",
   "execution_count": 6,
   "id": "925ee96f",
   "metadata": {},
   "outputs": [],
   "source": [
    "%reload_ext tensorboard"
   ]
  },
  {
   "cell_type": "code",
   "execution_count": 5,
   "id": "2a2885e4",
   "metadata": {},
   "outputs": [
    {
     "name": "stdout",
     "output_type": "stream",
     "text": [
      "Initial GPU Usage\n",
      "| ID | GPU | MEM |\n",
      "------------------\n",
      "|  0 |  7% |  1% |\n",
      "GPU Usage after emptying the cache\n",
      "| ID | GPU | MEM |\n",
      "------------------\n",
      "|  0 |  7% |  2% |\n"
     ]
    }
   ],
   "source": [
    "from GPUtil import showUtilization as gpu_usage\n",
    "from numba import cuda\n",
    "\n",
    "print(\"Initial GPU Usage\")\n",
    "gpu_usage()\n",
    "\n",
    "torch.cuda.empty_cache()\n",
    "\n",
    "cuda.select_device(0)\n",
    "cuda.close()\n",
    "cuda.select_device(0)\n",
    "\n",
    "print(\"GPU Usage after emptying the cache\")\n",
    "gpu_usage()"
   ]
  },
  {
   "cell_type": "code",
   "execution_count": 6,
   "id": "1356a1f4",
   "metadata": {},
   "outputs": [],
   "source": [
    "class noro(torch.nn.Module):\n",
    "    def __init__(self,\n",
    "                 in_channels = 14,\n",
    "                 embedding_size = 512,\n",
    "                 num_freqs = 75,\n",
    "                 basis_type = [\"powersine\", \"gauss\"],\n",
    "                 num_interactions = 5\n",
    "                 ):\n",
    "        super().__init__()\n",
    "        self.b_type_n = basis_type[0]\n",
    "        self.b_type_e = basis_type[1]\n",
    "        \n",
    "        # defining basis function for node features\n",
    "        basis_n = Basis(in_channels,\n",
    "                num_freqs=num_freqs,\n",
    "                basis_type=self.b_type_n\n",
    "            )\n",
    "        \n",
    "        self.embedding_n = torch.nn.Sequential(\n",
    "            basis_n, torch.nn.Linear(basis_n.out_dim, 14))\n",
    "        \n",
    "        # defining basis function for edge features i.e. distances\n",
    "        basis_e = Basis(1, num_freqs=num_freqs,\n",
    "                        basis_type= self.b_type_e)\n",
    "        \n",
    "        self.embedding_e = torch.nn.Sequential(\n",
    "            basis_e, torch.nn.Linear(basis_e.out_dim, 1))\n",
    "        \n",
    "        #self.interaction = ModuleList()\n",
    "        #for i in range(num_interactions):\n",
    "        self.conv1 = GATv2Conv(in_channels= in_channels, out_channels= embedding_size, \n",
    "                               heads = 3, edge_dim = 1, concat= True, dropout=0.6,\n",
    "                               bias=True, share_weights= True)\n",
    "        self.conv2 = GATv2Conv(in_channels= embedding_size*3, out_channels= embedding_size,\n",
    "                               heads = 3, edge_dim = 1, concat= True, dropout=0.6,\n",
    "                               bias=True, share_weights= True)\n",
    "        self.conv3 = GATv2Conv(in_channels= embedding_size*3, out_channels= embedding_size,\n",
    "                               heads = 3, edge_dim = 1, concat= True, dropout=0.6,\n",
    "                               bias=True, share_weights= True)\n",
    "        self.conv4 = GATv2Conv(in_channels= embedding_size*3, out_channels= embedding_size,\n",
    "                               heads = 3, edge_dim = 1, concat= True, dropout=0.6,\n",
    "                               bias=True, share_weights= True)\n",
    "        self.conv5 = GATv2Conv(in_channels= embedding_size*3, out_channels= embedding_size,\n",
    "                               heads = 3, edge_dim = 1, concat= True, dropout=0.6,\n",
    "                               bias=True, share_weights= True)\n",
    "        self.conv6 = GATv2Conv(in_channels= embedding_size*3, out_channels= embedding_size,\n",
    "                               heads = 3, edge_dim = 1, concat= True, dropout=0.6,\n",
    "                               bias=True, share_weights= True)\n",
    "        self.conv7 = GATv2Conv(in_channels= embedding_size*3, out_channels= embedding_size,\n",
    "                               heads = 3, edge_dim = 1, concat= True, dropout=0.6,\n",
    "                               bias=True, share_weights= True)\n",
    "        self.conv8 = GATv2Conv(in_channels= embedding_size*6, out_channels= embedding_size,\n",
    "                               heads = 3, edge_dim = 1, concat= True, dropout=0.6,\n",
    "                               bias=True, share_weights= True)\n",
    "        #self.interaction.append(block)\n",
    "        \n",
    "        self.lin = torch.nn.Sequential(torch.nn.Linear(embedding_size*3, 720), \n",
    "                                       torch.nn.Dropout() ,torch.nn.ReLU(),\n",
    "                                       torch.nn.Linear(720, 240),\n",
    "                                       torch.nn.Dropout() ,torch.nn.ReLU(),\n",
    "                                       torch.nn.Linear(240, 144),\n",
    "                                       torch.nn.Dropout() ,torch.nn.ReLU(),\n",
    "                                       torch.nn.Linear(144, 1),\n",
    "                                       torch.nn.Dropout() ,torch.nn.ReLU())\n",
    "        \n",
    "    def forward(self, data):\n",
    "        x, edge_index, edge_attr, batch  = data.x, data.edge_index, data.distx, data.batch\n",
    "        edge_attr_m = torch.reshape(edge_attr, shape =(len(edge_attr), 1))\n",
    "        \n",
    "        x = self.embedding_n(x)\n",
    "        edge_attr = self.embedding_e(edge_attr_m)\n",
    "        \n",
    "        out = self.conv1(x, edge_index, edge_attr, batch)\n",
    "        out_1 = out\n",
    "        out = self.conv2(out, edge_index, edge_attr, batch)\n",
    "        out = self.conv3(out, edge_index, edge_attr, batch)\n",
    "        out = self.conv4(out, edge_index, edge_attr, batch)\n",
    "        out = self.conv5(out, edge_index, edge_attr, batch)\n",
    "        out = self.conv6(out, edge_index, edge_attr, batch)\n",
    "        out = self.conv7(out, edge_index, edge_attr, batch)\n",
    "        \n",
    "        out = torch.concat((out_1, out), dim = -1)\n",
    "        \n",
    "        out = self.conv8(out, edge_index, edge_attr, batch)\n",
    "        \n",
    "        out = F.relu(self.lin(out))\n",
    "\n",
    "        return out"
   ]
  },
  {
   "cell_type": "code",
   "execution_count": 7,
   "id": "abb3278b",
   "metadata": {},
   "outputs": [
    {
     "name": "stdout",
     "output_type": "stream",
     "text": [
      "noro(\n",
      "  (embedding_n): Sequential(\n",
      "    (0): Basis(\n",
      "      (smearing): SINESmearing()\n",
      "    )\n",
      "    (1): Linear(in_features=1050, out_features=14, bias=True)\n",
      "  )\n",
      "  (embedding_e): Sequential(\n",
      "    (0): Basis(\n",
      "      (smearing): GaussianSmearing()\n",
      "    )\n",
      "    (1): Linear(in_features=75, out_features=1, bias=True)\n",
      "  )\n",
      "  (conv1): GATv2Conv(14, 512, heads=3)\n",
      "  (conv2): GATv2Conv(1536, 512, heads=3)\n",
      "  (conv3): GATv2Conv(1536, 512, heads=3)\n",
      "  (conv4): GATv2Conv(1536, 512, heads=3)\n",
      "  (conv5): GATv2Conv(1536, 512, heads=3)\n",
      "  (conv6): GATv2Conv(1536, 512, heads=3)\n",
      "  (conv7): GATv2Conv(1536, 512, heads=3)\n",
      "  (conv8): GATv2Conv(3072, 512, heads=3)\n",
      "  (lin): Sequential(\n",
      "    (0): Linear(in_features=1536, out_features=720, bias=True)\n",
      "    (1): Dropout(p=0.5, inplace=False)\n",
      "    (2): ReLU()\n",
      "    (3): Linear(in_features=720, out_features=240, bias=True)\n",
      "    (4): Dropout(p=0.5, inplace=False)\n",
      "    (5): ReLU()\n",
      "    (6): Linear(in_features=240, out_features=144, bias=True)\n",
      "    (7): Dropout(p=0.5, inplace=False)\n",
      "    (8): ReLU()\n",
      "    (9): Linear(in_features=144, out_features=1, bias=True)\n",
      "    (10): Dropout(p=0.5, inplace=False)\n",
      "    (11): ReLU()\n",
      "  )\n",
      ")\n",
      "Number of parameters:  20275468\n"
     ]
    }
   ],
   "source": [
    "torch.cuda.empty_cache()\n",
    "model = noro()\n",
    "# Use GPU for training\n",
    "device = torch.device(\"cuda:0\" if torch.cuda.is_available() else \"cpu\")\n",
    "model = model.to(device)\n",
    "print(model)\n",
    "print(\"Number of parameters: \", sum(p.numel() for p in model.parameters()))"
   ]
  },
  {
   "cell_type": "code",
   "execution_count": 8,
   "id": "465f218d",
   "metadata": {},
   "outputs": [
    {
     "data": {
      "text/plain": [
       "\"\\ndataiter = iter(loader)\\ndata = dataiter.next()\\n\\nimages = dict()\\nimages['x'] = data.x\\nimages['edge_index'] = data.edge_index\\nimages['distx'] = data.distx\\nimages['batch'] = data.batch\\n#images.to(device) \\nwriter.add_graph(model, images, verbose=True)\\nwriter.close()\\n\""
      ]
     },
     "execution_count": 8,
     "metadata": {},
     "output_type": "execute_result"
    }
   ],
   "source": [
    "\"\"\"\n",
    "dataiter = iter(loader)\n",
    "data = dataiter.next()\n",
    "\n",
    "images = dict()\n",
    "images['x'] = data.x\n",
    "images['edge_index'] = data.edge_index\n",
    "images['distx'] = data.distx\n",
    "images['batch'] = data.batch\n",
    "#images.to(device) \n",
    "writer.add_graph(model, images, verbose=True)\n",
    "writer.close()\n",
    "\"\"\""
   ]
  },
  {
   "cell_type": "code",
   "execution_count": 9,
   "id": "1d60934f",
   "metadata": {},
   "outputs": [],
   "source": [
    "import warnings\n",
    "warnings.filterwarnings(\"ignore\")\n",
    "\n",
    "loss_fn = MAELoss()\n",
    "\n",
    "learning_rate = 0.01\n",
    "decay = 5e-4\n",
    "EPOCH = 10000\n",
    "\n",
    "optimizer = torch.optim.Adam(model.parameters(), lr= learning_rate, weight_decay= decay)\n",
    "\n",
    "\"\"\"\n",
    "PATH = os.getcwd()+\"\\saved_models\"+\"\\model_1.pt\"\n",
    "\n",
    "checkpoint = torch.load(PATH)\n",
    "model.load_state_dict(checkpoint['model_state_dict'])\n",
    "optimizer.load_state_dict(checkpoint['optimizer_state_dict'])\n",
    "epoch = checkpoint['epoch']\n",
    "loss = checkpoint['loss']\n",
    "\n",
    "scaler = GradScaler()\n",
    "batch_size = 2\n",
    "gradient_accumulations = 2\n",
    "# this means training will be done for affective batch size of 4 * 16 = 64\n",
    "\n",
    "model.zero_grad()\n",
    "\"\"\"\n",
    "\n",
    "\n",
    "def train(loader, EPOCH = EPOCH):\n",
    "    \n",
    "    # Enumerate over the data\n",
    "    print(\"Starting training...\")\n",
    "    losses = []\n",
    "    running_loss = 0.0\n",
    "    \n",
    "    for epoch in tqdm(range(EPOCH)):\n",
    "        \n",
    "        for batch_idx, batch in enumerate(loader):\n",
    "            # Use GPU\n",
    "            batch.to(device) \n",
    "            # Reset gradients\n",
    "            optimizer.zero_grad() \n",
    "            # Passing the node features and the connection info\n",
    "            pred = model(batch) \n",
    "            # Calculating the loss and gradients\n",
    "            loss = torch.sqrt(loss_fn(pred, batch.y))       \n",
    "            loss.backward()  \n",
    "            # Update using the gradients\n",
    "            optimizer.step()\n",
    "            losses.append(loss)\n",
    "            running_loss += loss.item()\n",
    "            \n",
    "        if epoch % 100 == 0:\n",
    "            print(f\"Epoch {epoch} | Train Loss {loss}\")\n",
    "            # ...log the running loss\n",
    "            writer.add_scalar('training loss',\n",
    "                            running_loss / 100,\n",
    "                            epoch * len(loader) + batch_idx)\n",
    "    return losses\n",
    "        "
   ]
  },
  {
   "cell_type": "code",
   "execution_count": 10,
   "id": "f461eefa",
   "metadata": {},
   "outputs": [
    {
     "name": "stdout",
     "output_type": "stream",
     "text": [
      "Starting training...\n"
     ]
    },
    {
     "name": "stderr",
     "output_type": "stream",
     "text": [
      "  0%|                                                                             | 1/10000 [00:04<12:43:57,  4.58s/it]"
     ]
    },
    {
     "name": "stdout",
     "output_type": "stream",
     "text": [
      "Epoch 0 | Train Loss 12.581706110167445\n"
     ]
    },
    {
     "name": "stderr",
     "output_type": "stream",
     "text": [
      "  1%|▊                                                                           | 101/10000 [01:05<1:36:58,  1.70it/s]"
     ]
    },
    {
     "name": "stdout",
     "output_type": "stream",
     "text": [
      "Epoch 100 | Train Loss 16.632145344470523\n"
     ]
    },
    {
     "name": "stderr",
     "output_type": "stream",
     "text": [
      "  2%|█▌                                                                          | 201/10000 [02:05<1:39:07,  1.65it/s]"
     ]
    },
    {
     "name": "stdout",
     "output_type": "stream",
     "text": [
      "Epoch 200 | Train Loss 12.581706110167445\n"
     ]
    },
    {
     "name": "stderr",
     "output_type": "stream",
     "text": [
      "  3%|██▎                                                                         | 301/10000 [03:06<1:38:49,  1.64it/s]"
     ]
    },
    {
     "name": "stdout",
     "output_type": "stream",
     "text": [
      "Epoch 300 | Train Loss 23.65738440973231\n"
     ]
    },
    {
     "name": "stderr",
     "output_type": "stream",
     "text": [
      "  4%|███                                                                         | 401/10000 [04:06<1:36:53,  1.65it/s]"
     ]
    },
    {
     "name": "stdout",
     "output_type": "stream",
     "text": [
      "Epoch 400 | Train Loss 18.584306624883425\n"
     ]
    },
    {
     "name": "stderr",
     "output_type": "stream",
     "text": [
      "  5%|███▊                                                                        | 501/10000 [05:07<1:35:48,  1.65it/s]"
     ]
    },
    {
     "name": "stdout",
     "output_type": "stream",
     "text": [
      "Epoch 500 | Train Loss 24.18968325844348\n"
     ]
    },
    {
     "name": "stderr",
     "output_type": "stream",
     "text": [
      "  6%|████▌                                                                       | 601/10000 [06:07<1:32:41,  1.69it/s]"
     ]
    },
    {
     "name": "stdout",
     "output_type": "stream",
     "text": [
      "Epoch 600 | Train Loss 30.06330291346913\n"
     ]
    },
    {
     "name": "stderr",
     "output_type": "stream",
     "text": [
      "  7%|█████▎                                                                      | 701/10000 [07:07<1:36:42,  1.60it/s]"
     ]
    },
    {
     "name": "stdout",
     "output_type": "stream",
     "text": [
      "Epoch 700 | Train Loss 17.04431401757948\n"
     ]
    },
    {
     "name": "stderr",
     "output_type": "stream",
     "text": [
      "  8%|██████                                                                      | 801/10000 [08:07<1:32:54,  1.65it/s]"
     ]
    },
    {
     "name": "stdout",
     "output_type": "stream",
     "text": [
      "Epoch 800 | Train Loss 23.970481170226524\n"
     ]
    },
    {
     "name": "stderr",
     "output_type": "stream",
     "text": [
      "  9%|██████▊                                                                     | 901/10000 [09:08<1:31:09,  1.66it/s]"
     ]
    },
    {
     "name": "stdout",
     "output_type": "stream",
     "text": [
      "Epoch 900 | Train Loss 29.787146173906038\n"
     ]
    },
    {
     "name": "stderr",
     "output_type": "stream",
     "text": [
      " 10%|███████▌                                                                   | 1001/10000 [10:09<1:33:22,  1.61it/s]"
     ]
    },
    {
     "name": "stdout",
     "output_type": "stream",
     "text": [
      "Epoch 1000 | Train Loss 24.455086539749736\n"
     ]
    },
    {
     "name": "stderr",
     "output_type": "stream",
     "text": [
      " 11%|████████▎                                                                  | 1101/10000 [11:10<1:29:09,  1.66it/s]"
     ]
    },
    {
     "name": "stdout",
     "output_type": "stream",
     "text": [
      "Epoch 1100 | Train Loss 30.510678906369716\n"
     ]
    },
    {
     "name": "stderr",
     "output_type": "stream",
     "text": [
      " 12%|█████████                                                                  | 1201/10000 [12:09<1:27:09,  1.68it/s]"
     ]
    },
    {
     "name": "stdout",
     "output_type": "stream",
     "text": [
      "Epoch 1200 | Train Loss 19.628596199453924\n"
     ]
    },
    {
     "name": "stderr",
     "output_type": "stream",
     "text": [
      " 13%|█████████▊                                                                 | 1301/10000 [13:08<1:30:58,  1.59it/s]"
     ]
    },
    {
     "name": "stdout",
     "output_type": "stream",
     "text": [
      "Epoch 1300 | Train Loss 30.06330291346913\n"
     ]
    },
    {
     "name": "stderr",
     "output_type": "stream",
     "text": [
      " 14%|██████████▌                                                                | 1401/10000 [14:08<1:27:37,  1.64it/s]"
     ]
    },
    {
     "name": "stdout",
     "output_type": "stream",
     "text": [
      "Epoch 1400 | Train Loss 19.628596199453924\n"
     ]
    },
    {
     "name": "stderr",
     "output_type": "stream",
     "text": [
      " 15%|███████████▎                                                               | 1501/10000 [15:09<1:25:26,  1.66it/s]"
     ]
    },
    {
     "name": "stdout",
     "output_type": "stream",
     "text": [
      "Epoch 1500 | Train Loss 15.731578250178812\n"
     ]
    },
    {
     "name": "stderr",
     "output_type": "stream",
     "text": [
      " 16%|████████████                                                               | 1601/10000 [16:09<1:21:56,  1.71it/s]"
     ]
    },
    {
     "name": "stdout",
     "output_type": "stream",
     "text": [
      "Epoch 1600 | Train Loss 17.04431401757948\n"
     ]
    },
    {
     "name": "stderr",
     "output_type": "stream",
     "text": [
      " 17%|████████████▊                                                              | 1701/10000 [17:09<1:21:42,  1.69it/s]"
     ]
    },
    {
     "name": "stdout",
     "output_type": "stream",
     "text": [
      "Epoch 1700 | Train Loss 23.970481170226524\n"
     ]
    },
    {
     "name": "stderr",
     "output_type": "stream",
     "text": [
      " 18%|█████████████▌                                                             | 1801/10000 [18:08<1:20:31,  1.70it/s]"
     ]
    },
    {
     "name": "stdout",
     "output_type": "stream",
     "text": [
      "Epoch 1800 | Train Loss 18.374886152474073\n"
     ]
    },
    {
     "name": "stderr",
     "output_type": "stream",
     "text": [
      " 19%|██████████████▎                                                            | 1901/10000 [19:07<1:19:31,  1.70it/s]"
     ]
    },
    {
     "name": "stdout",
     "output_type": "stream",
     "text": [
      "Epoch 1900 | Train Loss 29.787146173906038\n"
     ]
    },
    {
     "name": "stderr",
     "output_type": "stream",
     "text": [
      " 20%|███████████████                                                            | 2001/10000 [20:05<1:18:39,  1.69it/s]"
     ]
    },
    {
     "name": "stdout",
     "output_type": "stream",
     "text": [
      "Epoch 2000 | Train Loss 24.18968325844348\n"
     ]
    },
    {
     "name": "stderr",
     "output_type": "stream",
     "text": [
      " 21%|███████████████▊                                                           | 2101/10000 [21:05<1:18:39,  1.67it/s]"
     ]
    },
    {
     "name": "stdout",
     "output_type": "stream",
     "text": [
      "Epoch 2100 | Train Loss 16.23614028076097\n"
     ]
    },
    {
     "name": "stderr",
     "output_type": "stream",
     "text": [
      " 22%|████████████████▌                                                          | 2201/10000 [22:05<1:17:43,  1.67it/s]"
     ]
    },
    {
     "name": "stdout",
     "output_type": "stream",
     "text": [
      "Epoch 2200 | Train Loss 24.455086539749736\n"
     ]
    },
    {
     "name": "stderr",
     "output_type": "stream",
     "text": [
      " 23%|█████████████████▎                                                         | 2301/10000 [23:05<1:17:38,  1.65it/s]"
     ]
    },
    {
     "name": "stdout",
     "output_type": "stream",
     "text": [
      "Epoch 2300 | Train Loss 30.06330291346913\n"
     ]
    },
    {
     "name": "stderr",
     "output_type": "stream",
     "text": [
      " 24%|██████████████████                                                         | 2401/10000 [24:05<1:16:08,  1.66it/s]"
     ]
    },
    {
     "name": "stdout",
     "output_type": "stream",
     "text": [
      "Epoch 2400 | Train Loss 13.471018070079284\n"
     ]
    },
    {
     "name": "stderr",
     "output_type": "stream",
     "text": [
      " 25%|██████████████████▊                                                        | 2501/10000 [25:05<1:14:54,  1.67it/s]"
     ]
    },
    {
     "name": "stdout",
     "output_type": "stream",
     "text": [
      "Epoch 2500 | Train Loss 15.25919236332908\n"
     ]
    },
    {
     "name": "stderr",
     "output_type": "stream",
     "text": [
      " 26%|███████████████████▌                                                       | 2601/10000 [26:05<1:14:32,  1.65it/s]"
     ]
    },
    {
     "name": "stdout",
     "output_type": "stream",
     "text": [
      "Epoch 2600 | Train Loss 29.787146173906038\n"
     ]
    },
    {
     "name": "stderr",
     "output_type": "stream",
     "text": [
      " 27%|████████████████████▎                                                      | 2701/10000 [27:05<1:13:20,  1.66it/s]"
     ]
    },
    {
     "name": "stdout",
     "output_type": "stream",
     "text": [
      "Epoch 2700 | Train Loss 29.986475803256848\n"
     ]
    },
    {
     "name": "stderr",
     "output_type": "stream",
     "text": [
      " 28%|█████████████████████                                                      | 2801/10000 [28:05<1:11:35,  1.68it/s]"
     ]
    },
    {
     "name": "stdout",
     "output_type": "stream",
     "text": [
      "Epoch 2800 | Train Loss 14.87850386001005\n"
     ]
    },
    {
     "name": "stderr",
     "output_type": "stream",
     "text": [
      " 29%|█████████████████████▊                                                     | 2901/10000 [29:06<1:13:57,  1.60it/s]"
     ]
    },
    {
     "name": "stdout",
     "output_type": "stream",
     "text": [
      "Epoch 2900 | Train Loss 19.21071509420804\n"
     ]
    },
    {
     "name": "stderr",
     "output_type": "stream",
     "text": [
      " 30%|██████████████████████▌                                                    | 3001/10000 [30:05<1:08:53,  1.69it/s]"
     ]
    },
    {
     "name": "stdout",
     "output_type": "stream",
     "text": [
      "Epoch 3000 | Train Loss 15.731578250178812\n"
     ]
    },
    {
     "name": "stderr",
     "output_type": "stream",
     "text": [
      " 31%|███████████████████████▎                                                   | 3101/10000 [31:05<1:08:10,  1.69it/s]"
     ]
    },
    {
     "name": "stdout",
     "output_type": "stream",
     "text": [
      "Epoch 3100 | Train Loss 30.510678906369716\n"
     ]
    },
    {
     "name": "stderr",
     "output_type": "stream",
     "text": [
      " 32%|████████████████████████                                                   | 3201/10000 [32:04<1:06:41,  1.70it/s]"
     ]
    },
    {
     "name": "stdout",
     "output_type": "stream",
     "text": [
      "Epoch 3200 | Train Loss 12.581706110167445\n"
     ]
    },
    {
     "name": "stderr",
     "output_type": "stream",
     "text": [
      " 33%|████████████████████████▊                                                  | 3301/10000 [33:03<1:05:37,  1.70it/s]"
     ]
    },
    {
     "name": "stdout",
     "output_type": "stream",
     "text": [
      "Epoch 3300 | Train Loss 17.483571120218837\n"
     ]
    },
    {
     "name": "stderr",
     "output_type": "stream",
     "text": [
      " 34%|█████████████████████████▌                                                 | 3401/10000 [34:02<1:05:07,  1.69it/s]"
     ]
    },
    {
     "name": "stdout",
     "output_type": "stream",
     "text": [
      "Epoch 3400 | Train Loss 24.18968325844348\n"
     ]
    },
    {
     "name": "stderr",
     "output_type": "stream",
     "text": [
      " 35%|██████████████████████████▎                                                | 3501/10000 [35:01<1:04:35,  1.68it/s]"
     ]
    },
    {
     "name": "stdout",
     "output_type": "stream",
     "text": [
      "Epoch 3500 | Train Loss 19.21071509420804\n"
     ]
    },
    {
     "name": "stderr",
     "output_type": "stream",
     "text": [
      " 36%|███████████████████████████                                                | 3601/10000 [36:00<1:03:29,  1.68it/s]"
     ]
    },
    {
     "name": "stdout",
     "output_type": "stream",
     "text": [
      "Epoch 3600 | Train Loss 16.68161575021359\n"
     ]
    },
    {
     "name": "stderr",
     "output_type": "stream",
     "text": [
      " 37%|███████████████████████████▊                                               | 3701/10000 [36:59<1:03:09,  1.66it/s]"
     ]
    },
    {
     "name": "stdout",
     "output_type": "stream",
     "text": [
      "Epoch 3700 | Train Loss 13.471018070079284\n"
     ]
    },
    {
     "name": "stderr",
     "output_type": "stream",
     "text": [
      " 38%|████████████████████████████▌                                              | 3801/10000 [37:59<1:02:27,  1.65it/s]"
     ]
    },
    {
     "name": "stdout",
     "output_type": "stream",
     "text": [
      "Epoch 3800 | Train Loss 16.24047295310977\n"
     ]
    },
    {
     "name": "stderr",
     "output_type": "stream",
     "text": [
      " 39%|█████████████████████████████▎                                             | 3901/10000 [38:59<1:00:05,  1.69it/s]"
     ]
    },
    {
     "name": "stdout",
     "output_type": "stream",
     "text": [
      "Epoch 3900 | Train Loss 18.30415162859893\n"
     ]
    },
    {
     "name": "stderr",
     "output_type": "stream",
     "text": [
      " 40%|██████████████████████████████                                             | 4001/10000 [39:59<1:00:05,  1.66it/s]"
     ]
    },
    {
     "name": "stdout",
     "output_type": "stream",
     "text": [
      "Epoch 4000 | Train Loss 16.632145344470523\n"
     ]
    },
    {
     "name": "stderr",
     "output_type": "stream",
     "text": [
      " 41%|███████████████████████████████▌                                             | 4101/10000 [40:58<59:07,  1.66it/s]"
     ]
    },
    {
     "name": "stdout",
     "output_type": "stream",
     "text": [
      "Epoch 4100 | Train Loss 12.581706110167445\n"
     ]
    },
    {
     "name": "stderr",
     "output_type": "stream",
     "text": [
      " 42%|████████████████████████████████▎                                            | 4201/10000 [41:58<58:03,  1.66it/s]"
     ]
    },
    {
     "name": "stdout",
     "output_type": "stream",
     "text": [
      "Epoch 4200 | Train Loss 17.04431401757948\n"
     ]
    },
    {
     "name": "stderr",
     "output_type": "stream",
     "text": [
      " 43%|█████████████████████████████████                                            | 4301/10000 [42:59<57:13,  1.66it/s]"
     ]
    },
    {
     "name": "stdout",
     "output_type": "stream",
     "text": [
      "Epoch 4300 | Train Loss 30.510678906369716\n"
     ]
    },
    {
     "name": "stderr",
     "output_type": "stream",
     "text": [
      " 44%|█████████████████████████████████▉                                           | 4401/10000 [43:58<55:36,  1.68it/s]"
     ]
    },
    {
     "name": "stdout",
     "output_type": "stream",
     "text": [
      "Epoch 4400 | Train Loss 16.214383748747288\n"
     ]
    },
    {
     "name": "stderr",
     "output_type": "stream",
     "text": [
      " 45%|█████████████████████████████████▊                                         | 4501/10000 [45:00<1:01:25,  1.49it/s]"
     ]
    },
    {
     "name": "stdout",
     "output_type": "stream",
     "text": [
      "Epoch 4500 | Train Loss 23.52348034948795\n"
     ]
    },
    {
     "name": "stderr",
     "output_type": "stream",
     "text": [
      " 46%|███████████████████████████████████▍                                         | 4601/10000 [46:01<53:10,  1.69it/s]"
     ]
    },
    {
     "name": "stdout",
     "output_type": "stream",
     "text": [
      "Epoch 4600 | Train Loss 32.09077909216944\n"
     ]
    },
    {
     "name": "stderr",
     "output_type": "stream",
     "text": [
      " 47%|████████████████████████████████████▏                                        | 4701/10000 [47:00<51:45,  1.71it/s]"
     ]
    },
    {
     "name": "stdout",
     "output_type": "stream",
     "text": [
      "Epoch 4700 | Train Loss 16.632145344470523\n"
     ]
    },
    {
     "name": "stderr",
     "output_type": "stream",
     "text": [
      " 48%|████████████████████████████████████▉                                        | 4801/10000 [47:59<50:42,  1.71it/s]"
     ]
    },
    {
     "name": "stdout",
     "output_type": "stream",
     "text": [
      "Epoch 4800 | Train Loss 23.52348034948795\n"
     ]
    },
    {
     "name": "stderr",
     "output_type": "stream",
     "text": [
      " 49%|█████████████████████████████████████▋                                       | 4901/10000 [48:58<50:12,  1.69it/s]"
     ]
    },
    {
     "name": "stdout",
     "output_type": "stream",
     "text": [
      "Epoch 4900 | Train Loss 32.09077909216944\n"
     ]
    },
    {
     "name": "stderr",
     "output_type": "stream",
     "text": [
      " 50%|██████████████████████████████████████▌                                      | 5001/10000 [49:57<49:06,  1.70it/s]"
     ]
    },
    {
     "name": "stdout",
     "output_type": "stream",
     "text": [
      "Epoch 5000 | Train Loss 23.52348034948795\n"
     ]
    },
    {
     "name": "stderr",
     "output_type": "stream",
     "text": [
      " 51%|███████████████████████████████████████▎                                     | 5101/10000 [50:55<47:52,  1.71it/s]"
     ]
    },
    {
     "name": "stdout",
     "output_type": "stream",
     "text": [
      "Epoch 5100 | Train Loss 19.89797404589041\n"
     ]
    },
    {
     "name": "stderr",
     "output_type": "stream",
     "text": [
      " 52%|████████████████████████████████████████                                     | 5201/10000 [51:54<47:09,  1.70it/s]"
     ]
    },
    {
     "name": "stdout",
     "output_type": "stream",
     "text": [
      "Epoch 5200 | Train Loss 16.24047295310977\n"
     ]
    },
    {
     "name": "stderr",
     "output_type": "stream",
     "text": [
      " 53%|████████████████████████████████████████▊                                    | 5301/10000 [52:53<46:33,  1.68it/s]"
     ]
    },
    {
     "name": "stdout",
     "output_type": "stream",
     "text": [
      "Epoch 5300 | Train Loss 13.471018070079284\n"
     ]
    },
    {
     "name": "stderr",
     "output_type": "stream",
     "text": [
      " 54%|█████████████████████████████████████████▌                                   | 5401/10000 [53:52<45:26,  1.69it/s]"
     ]
    },
    {
     "name": "stdout",
     "output_type": "stream",
     "text": [
      "Epoch 5400 | Train Loss 16.720475253750468\n"
     ]
    },
    {
     "name": "stderr",
     "output_type": "stream",
     "text": [
      " 55%|██████████████████████████████████████████▎                                  | 5501/10000 [54:52<44:13,  1.70it/s]"
     ]
    },
    {
     "name": "stdout",
     "output_type": "stream",
     "text": [
      "Epoch 5500 | Train Loss 14.313376972804328\n"
     ]
    },
    {
     "name": "stderr",
     "output_type": "stream",
     "text": [
      " 56%|███████████████████████████████████████████▏                                 | 5601/10000 [55:51<43:28,  1.69it/s]"
     ]
    },
    {
     "name": "stdout",
     "output_type": "stream",
     "text": [
      "Epoch 5600 | Train Loss 25.155377574994592\n"
     ]
    },
    {
     "name": "stderr",
     "output_type": "stream",
     "text": [
      " 57%|███████████████████████████████████████████▉                                 | 5701/10000 [56:50<42:00,  1.71it/s]"
     ]
    },
    {
     "name": "stdout",
     "output_type": "stream",
     "text": [
      "Epoch 5700 | Train Loss 19.628596199453924\n"
     ]
    },
    {
     "name": "stderr",
     "output_type": "stream",
     "text": [
      " 58%|████████████████████████████████████████████▋                                | 5801/10000 [57:49<41:18,  1.69it/s]"
     ]
    },
    {
     "name": "stdout",
     "output_type": "stream",
     "text": [
      "Epoch 5800 | Train Loss 23.970481170226524\n"
     ]
    },
    {
     "name": "stderr",
     "output_type": "stream",
     "text": [
      " 59%|█████████████████████████████████████████████▍                               | 5901/10000 [58:48<40:32,  1.69it/s]"
     ]
    },
    {
     "name": "stdout",
     "output_type": "stream",
     "text": [
      "Epoch 5900 | Train Loss 24.455086539749736\n"
     ]
    },
    {
     "name": "stderr",
     "output_type": "stream",
     "text": [
      " 60%|██████████████████████████████████████████████▏                              | 6001/10000 [59:47<39:02,  1.71it/s]"
     ]
    },
    {
     "name": "stdout",
     "output_type": "stream",
     "text": [
      "Epoch 6000 | Train Loss 18.374886152474073\n"
     ]
    },
    {
     "name": "stderr",
     "output_type": "stream",
     "text": [
      " 61%|█████████████████████████████████████████████▊                             | 6101/10000 [1:00:46<38:04,  1.71it/s]"
     ]
    },
    {
     "name": "stdout",
     "output_type": "stream",
     "text": [
      "Epoch 6100 | Train Loss 14.313376972804328\n"
     ]
    },
    {
     "name": "stderr",
     "output_type": "stream",
     "text": [
      " 62%|██████████████████████████████████████████████▌                            | 6201/10000 [1:01:45<37:35,  1.68it/s]"
     ]
    },
    {
     "name": "stdout",
     "output_type": "stream",
     "text": [
      "Epoch 6200 | Train Loss 16.214383748747288\n"
     ]
    },
    {
     "name": "stderr",
     "output_type": "stream",
     "text": [
      " 63%|███████████████████████████████████████████████▎                           | 6301/10000 [1:02:44<36:18,  1.70it/s]"
     ]
    },
    {
     "name": "stdout",
     "output_type": "stream",
     "text": [
      "Epoch 6300 | Train Loss 23.52348034948795\n"
     ]
    },
    {
     "name": "stderr",
     "output_type": "stream",
     "text": [
      " 64%|████████████████████████████████████████████████                           | 6401/10000 [1:03:43<35:42,  1.68it/s]"
     ]
    },
    {
     "name": "stdout",
     "output_type": "stream",
     "text": [
      "Epoch 6400 | Train Loss 19.89797404589041\n"
     ]
    },
    {
     "name": "stderr",
     "output_type": "stream",
     "text": [
      " 65%|████████████████████████████████████████████████▊                          | 6501/10000 [1:04:43<34:52,  1.67it/s]"
     ]
    },
    {
     "name": "stdout",
     "output_type": "stream",
     "text": [
      "Epoch 6500 | Train Loss 16.720475253750468\n"
     ]
    },
    {
     "name": "stderr",
     "output_type": "stream",
     "text": [
      " 66%|█████████████████████████████████████████████████▌                         | 6601/10000 [1:05:42<33:32,  1.69it/s]"
     ]
    },
    {
     "name": "stdout",
     "output_type": "stream",
     "text": [
      "Epoch 6600 | Train Loss 14.313376972804328\n"
     ]
    },
    {
     "name": "stderr",
     "output_type": "stream",
     "text": [
      " 67%|██████████████████████████████████████████████████▎                        | 6701/10000 [1:06:41<32:33,  1.69it/s]"
     ]
    },
    {
     "name": "stdout",
     "output_type": "stream",
     "text": [
      "Epoch 6700 | Train Loss 17.72573908269848\n"
     ]
    },
    {
     "name": "stderr",
     "output_type": "stream",
     "text": [
      " 68%|███████████████████████████████████████████████████                        | 6801/10000 [1:07:40<31:25,  1.70it/s]"
     ]
    },
    {
     "name": "stdout",
     "output_type": "stream",
     "text": [
      "Epoch 6800 | Train Loss 23.65738440973231\n"
     ]
    },
    {
     "name": "stderr",
     "output_type": "stream",
     "text": [
      " 69%|███████████████████████████████████████████████████▊                       | 6901/10000 [1:08:40<30:28,  1.70it/s]"
     ]
    },
    {
     "name": "stdout",
     "output_type": "stream",
     "text": [
      "Epoch 6900 | Train Loss 12.581706110167445\n"
     ]
    },
    {
     "name": "stderr",
     "output_type": "stream",
     "text": [
      " 70%|████████████████████████████████████████████████████▌                      | 7001/10000 [1:09:39<29:51,  1.67it/s]"
     ]
    },
    {
     "name": "stdout",
     "output_type": "stream",
     "text": [
      "Epoch 7000 | Train Loss 18.584306624883425\n"
     ]
    },
    {
     "name": "stderr",
     "output_type": "stream",
     "text": [
      " 71%|█████████████████████████████████████████████████████▎                     | 7101/10000 [1:10:38<28:27,  1.70it/s]"
     ]
    },
    {
     "name": "stdout",
     "output_type": "stream",
     "text": [
      "Epoch 7100 | Train Loss 17.483571120218837\n"
     ]
    },
    {
     "name": "stderr",
     "output_type": "stream",
     "text": [
      " 72%|██████████████████████████████████████████████████████                     | 7201/10000 [1:11:37<27:34,  1.69it/s]"
     ]
    },
    {
     "name": "stdout",
     "output_type": "stream",
     "text": [
      "Epoch 7200 | Train Loss 19.628596199453924\n"
     ]
    },
    {
     "name": "stderr",
     "output_type": "stream",
     "text": [
      " 73%|██████████████████████████████████████████████████████▊                    | 7301/10000 [1:12:37<26:36,  1.69it/s]"
     ]
    },
    {
     "name": "stdout",
     "output_type": "stream",
     "text": [
      "Epoch 7300 | Train Loss 19.21071509420804\n"
     ]
    },
    {
     "name": "stderr",
     "output_type": "stream",
     "text": [
      " 74%|███████████████████████████████████████████████████████▌                   | 7401/10000 [1:13:36<25:50,  1.68it/s]"
     ]
    },
    {
     "name": "stdout",
     "output_type": "stream",
     "text": [
      "Epoch 7400 | Train Loss 18.374886152474073\n"
     ]
    },
    {
     "name": "stderr",
     "output_type": "stream",
     "text": [
      " 75%|████████████████████████████████████████████████████████▎                  | 7501/10000 [1:14:35<24:42,  1.69it/s]"
     ]
    },
    {
     "name": "stdout",
     "output_type": "stream",
     "text": [
      "Epoch 7500 | Train Loss 17.14859972129794\n"
     ]
    },
    {
     "name": "stderr",
     "output_type": "stream",
     "text": [
      " 76%|█████████████████████████████████████████████████████████                  | 7601/10000 [1:15:34<24:09,  1.66it/s]"
     ]
    },
    {
     "name": "stdout",
     "output_type": "stream",
     "text": [
      "Epoch 7600 | Train Loss 18.584306624883425\n"
     ]
    },
    {
     "name": "stderr",
     "output_type": "stream",
     "text": [
      " 77%|█████████████████████████████████████████████████████████▊                 | 7701/10000 [1:16:35<23:25,  1.64it/s]"
     ]
    },
    {
     "name": "stdout",
     "output_type": "stream",
     "text": [
      "Epoch 7700 | Train Loss 18.30415162859893\n"
     ]
    },
    {
     "name": "stderr",
     "output_type": "stream",
     "text": [
      " 78%|██████████████████████████████████████████████████████████▌                | 7801/10000 [1:17:36<21:38,  1.69it/s]"
     ]
    },
    {
     "name": "stdout",
     "output_type": "stream",
     "text": [
      "Epoch 7800 | Train Loss 14.313376972804328\n"
     ]
    },
    {
     "name": "stderr",
     "output_type": "stream",
     "text": [
      " 79%|███████████████████████████████████████████████████████████▎               | 7901/10000 [1:18:35<20:38,  1.69it/s]"
     ]
    },
    {
     "name": "stdout",
     "output_type": "stream",
     "text": [
      "Epoch 7900 | Train Loss 19.21071509420804\n"
     ]
    },
    {
     "name": "stderr",
     "output_type": "stream",
     "text": [
      " 80%|████████████████████████████████████████████████████████████               | 8001/10000 [1:19:34<19:53,  1.68it/s]"
     ]
    },
    {
     "name": "stdout",
     "output_type": "stream",
     "text": [
      "Epoch 8000 | Train Loss 23.970481170226524\n"
     ]
    },
    {
     "name": "stderr",
     "output_type": "stream",
     "text": [
      " 81%|████████████████████████████████████████████████████████████▊              | 8101/10000 [1:20:33<18:40,  1.69it/s]"
     ]
    },
    {
     "name": "stdout",
     "output_type": "stream",
     "text": [
      "Epoch 8100 | Train Loss 29.645155977349457\n"
     ]
    },
    {
     "name": "stderr",
     "output_type": "stream",
     "text": [
      " 82%|█████████████████████████████████████████████████████████████▌             | 8201/10000 [1:21:33<18:01,  1.66it/s]"
     ]
    },
    {
     "name": "stdout",
     "output_type": "stream",
     "text": [
      "Epoch 8200 | Train Loss 23.52348034948795\n"
     ]
    },
    {
     "name": "stderr",
     "output_type": "stream",
     "text": [
      " 83%|██████████████████████████████████████████████████████████████▎            | 8301/10000 [1:22:33<17:13,  1.64it/s]"
     ]
    },
    {
     "name": "stdout",
     "output_type": "stream",
     "text": [
      "Epoch 8300 | Train Loss 23.804641531352924\n"
     ]
    },
    {
     "name": "stderr",
     "output_type": "stream",
     "text": [
      " 84%|███████████████████████████████████████████████████████████████            | 8401/10000 [1:23:34<16:15,  1.64it/s]"
     ]
    },
    {
     "name": "stdout",
     "output_type": "stream",
     "text": [
      "Epoch 8400 | Train Loss 23.804641531352924\n"
     ]
    },
    {
     "name": "stderr",
     "output_type": "stream",
     "text": [
      " 85%|███████████████████████████████████████████████████████████████▊           | 8501/10000 [1:24:35<15:13,  1.64it/s]"
     ]
    },
    {
     "name": "stdout",
     "output_type": "stream",
     "text": [
      "Epoch 8500 | Train Loss 13.471018070079284\n"
     ]
    },
    {
     "name": "stderr",
     "output_type": "stream",
     "text": [
      " 86%|████████████████████████████████████████████████████████████████▌          | 8601/10000 [1:25:42<14:13,  1.64it/s]"
     ]
    },
    {
     "name": "stdout",
     "output_type": "stream",
     "text": [
      "Epoch 8600 | Train Loss 18.374886152474073\n"
     ]
    },
    {
     "name": "stderr",
     "output_type": "stream",
     "text": [
      " 87%|█████████████████████████████████████████████████████████████████▎         | 8701/10000 [1:26:43<13:09,  1.65it/s]"
     ]
    },
    {
     "name": "stdout",
     "output_type": "stream",
     "text": [
      "Epoch 8700 | Train Loss 18.30415162859893\n"
     ]
    },
    {
     "name": "stderr",
     "output_type": "stream",
     "text": [
      " 88%|██████████████████████████████████████████████████████████████████         | 8801/10000 [1:27:44<12:20,  1.62it/s]"
     ]
    },
    {
     "name": "stdout",
     "output_type": "stream",
     "text": [
      "Epoch 8800 | Train Loss 16.214383748747288\n"
     ]
    },
    {
     "name": "stderr",
     "output_type": "stream",
     "text": [
      " 89%|██████████████████████████████████████████████████████████████████▊        | 8901/10000 [1:28:44<10:48,  1.70it/s]"
     ]
    },
    {
     "name": "stdout",
     "output_type": "stream",
     "text": [
      "Epoch 8900 | Train Loss 30.127115291516102\n"
     ]
    },
    {
     "name": "stderr",
     "output_type": "stream",
     "text": [
      " 90%|███████████████████████████████████████████████████████████████████▌       | 9001/10000 [1:29:43<09:47,  1.70it/s]"
     ]
    },
    {
     "name": "stdout",
     "output_type": "stream",
     "text": [
      "Epoch 9000 | Train Loss 16.214383748747288\n"
     ]
    },
    {
     "name": "stderr",
     "output_type": "stream",
     "text": [
      " 91%|████████████████████████████████████████████████████████████████████▎      | 9101/10000 [1:30:42<09:00,  1.66it/s]"
     ]
    },
    {
     "name": "stdout",
     "output_type": "stream",
     "text": [
      "Epoch 9100 | Train Loss 16.214383748747288\n"
     ]
    },
    {
     "name": "stderr",
     "output_type": "stream",
     "text": [
      " 92%|█████████████████████████████████████████████████████████████████████      | 9201/10000 [1:31:41<07:50,  1.70it/s]"
     ]
    },
    {
     "name": "stdout",
     "output_type": "stream",
     "text": [
      "Epoch 9200 | Train Loss 12.581706110167445\n"
     ]
    },
    {
     "name": "stderr",
     "output_type": "stream",
     "text": [
      " 93%|█████████████████████████████████████████████████████████████████████▊     | 9301/10000 [1:32:41<06:55,  1.68it/s]"
     ]
    },
    {
     "name": "stdout",
     "output_type": "stream",
     "text": [
      "Epoch 9300 | Train Loss 15.813528745473304\n"
     ]
    },
    {
     "name": "stderr",
     "output_type": "stream",
     "text": [
      " 94%|██████████████████████████████████████████████████████████████████████▌    | 9401/10000 [1:33:40<05:55,  1.68it/s]"
     ]
    },
    {
     "name": "stdout",
     "output_type": "stream",
     "text": [
      "Epoch 9400 | Train Loss 29.787146173906038\n"
     ]
    },
    {
     "name": "stderr",
     "output_type": "stream",
     "text": [
      " 95%|███████████████████████████████████████████████████████████████████████▎   | 9501/10000 [1:34:39<04:53,  1.70it/s]"
     ]
    },
    {
     "name": "stdout",
     "output_type": "stream",
     "text": [
      "Epoch 9500 | Train Loss 23.65738440973231\n"
     ]
    },
    {
     "name": "stderr",
     "output_type": "stream",
     "text": [
      " 96%|████████████████████████████████████████████████████████████████████████   | 9601/10000 [1:35:38<03:54,  1.70it/s]"
     ]
    },
    {
     "name": "stdout",
     "output_type": "stream",
     "text": [
      "Epoch 9600 | Train Loss 17.04431401757948\n"
     ]
    },
    {
     "name": "stderr",
     "output_type": "stream",
     "text": [
      " 97%|████████████████████████████████████████████████████████████████████████▊  | 9701/10000 [1:36:37<02:57,  1.69it/s]"
     ]
    },
    {
     "name": "stdout",
     "output_type": "stream",
     "text": [
      "Epoch 9700 | Train Loss 14.138822421241402\n"
     ]
    },
    {
     "name": "stderr",
     "output_type": "stream",
     "text": [
      " 98%|█████████████████████████████████████████████████████████████████████████▌ | 9801/10000 [1:37:37<02:02,  1.63it/s]"
     ]
    },
    {
     "name": "stdout",
     "output_type": "stream",
     "text": [
      "Epoch 9800 | Train Loss 15.813528745473304\n"
     ]
    },
    {
     "name": "stderr",
     "output_type": "stream",
     "text": [
      " 99%|██████████████████████████████████████████████████████████████████████████▎| 9901/10000 [1:38:35<00:59,  1.68it/s]"
     ]
    },
    {
     "name": "stdout",
     "output_type": "stream",
     "text": [
      "Epoch 9900 | Train Loss 18.030117920419297\n"
     ]
    },
    {
     "name": "stderr",
     "output_type": "stream",
     "text": [
      "100%|██████████████████████████████████████████████████████████████████████████| 10000/10000 [1:39:34<00:00,  1.67it/s]\n"
     ]
    }
   ],
   "source": [
    "torch.cuda.empty_cache()\n",
    "losses = train(loader)"
   ]
  },
  {
   "cell_type": "code",
   "execution_count": 12,
   "id": "ddeeb123",
   "metadata": {},
   "outputs": [],
   "source": [
    "\"\"\"\n",
    "# Additional information\n",
    "PATH = os.getcwd()+\"\\saved_models\"\n",
    "LOSS = losses[-1]\n",
    "\n",
    "torch.save({\n",
    "            'epoch': EPOCH,\n",
    "            'model_state_dict': model.state_dict(),\n",
    "            'optimizer_state_dict': optimizer.state_dict(),\n",
    "            'loss': torch.mean(torch.Tensor(losses)),\n",
    "            }, PATH+\"\\model_1.pt\")\n",
    "\n",
    "con = [str(float(i))+\"\\n\" for i in losses]\n",
    "with open(file =  PATH+\"\\loss_tracker.txt\",mode= \"a\") as f:\n",
    "    f.writelines(con)\n",
    "\"\"\""
   ]
  },
  {
   "cell_type": "code",
   "execution_count": 4,
   "id": "c3323098",
   "metadata": {},
   "outputs": [],
   "source": [
    "with open(file = os.getcwd() + \"\\saved_models\\loss_tracker.txt\"  ,mode= \"r\") as f:\n",
    "    line = f.readlines()"
   ]
  },
  {
   "cell_type": "code",
   "execution_count": 5,
   "id": "f095f070",
   "metadata": {},
   "outputs": [],
   "source": [
    "#losses_float = [float(loss.cpu().detach().numpy()) for loss in losses]\n",
    "losses_float = line.sort(reverse = True)\n",
    "#loss_indices = [i for i,l in enumerate(losses_float)]\n",
    "#plt.plot(loss_indices, losses_float)\n",
    "#plt.show()\n",
    "#plt.plot(loss_indices, losses_float)"
   ]
  },
  {
   "cell_type": "code",
   "execution_count": 6,
   "id": "81b73aa6",
   "metadata": {},
   "outputs": [],
   "source": [
    "line = [float(i) for i in line]\n",
    "line.sort(reverse = True)"
   ]
  },
  {
   "cell_type": "code",
   "execution_count": 18,
   "id": "b3508264",
   "metadata": {},
   "outputs": [
    {
     "data": {
      "text/plain": [
       "<seaborn.axisgrid.FacetGrid at 0x2a9d30adc40>"
      ]
     },
     "execution_count": 18,
     "metadata": {},
     "output_type": "execute_result"
    },
    {
     "data": {
      "image/png": "[encoded data removed]",
      "text/plain": [
       "<Figure size 360x360 with 1 Axes>"
      ]
     },
     "metadata": {},
     "output_type": "display_data"
    }
   ],
   "source": [
    "loss_indices = [i for i,l in enumerate(line)]\n",
    "sns.set(style=\"dark\")\n",
    "sns.relplot(\n",
    "    kind=\"line\",\n",
    "    x=loss_indices, y=line)"
   ]
  },
  {
   "cell_type": "code",
   "execution_count": 25,
   "id": "20a69025",
   "metadata": {},
   "outputs": [],
   "source": [
    "data = dict()\n",
    "data[\"epochs\"] = loss_indices\n",
    "data[\"error\"] = line"
   ]
  },
  {
   "cell_type": "code",
   "execution_count": 28,
   "id": "81ac9e28",
   "metadata": {},
   "outputs": [
    {
     "data": {
      "text/plain": [
       "<seaborn.axisgrid.JointGrid at 0x2a9d4e4aa90>"
      ]
     },
     "execution_count": 28,
     "metadata": {},
     "output_type": "execute_result"
    },
    {
     "data": {
      "image/png": "[encoded data removed]",
      "text/plain": [
       "<Figure size 432x432 with 3 Axes>"
      ]
     },
     "metadata": {},
     "output_type": "display_data"
    }
   ],
   "source": [
    "sns.jointplot(x= \"epochs\", y= \"error\",\n",
    "              data= data,\n",
    "              kind=\"reg\",\n",
    "              marginal_ticks= True)"
   ]
  },
  {
   "cell_type": "code",
   "execution_count": 12,
   "id": "3f78d00f",
   "metadata": {},
   "outputs": [
    {
     "data": {
      "image/png": "[encoded data removed]",
      "text/plain": [
       "<Figure size 432x288 with 1 Axes>"
      ]
     },
     "metadata": {
      "needs_background": "light"
     },
     "output_type": "display_data"
    }
   ],
   "source": [
    "#losses_float = [float(loss.cpu().detach().numpy()) for loss in losses]\n",
    "loss_indices = [i for i,l in enumerate(line)]\n",
    "plt.plot(loss_indices, line)\n",
    "plt.show()"
   ]
  },
  {
   "cell_type": "code",
   "execution_count": null,
   "id": "bf6638a6",
   "metadata": {},
   "outputs": [],
   "source": [
    "print(\"GPU Usage after emptying the cache\")\n",
    "gpu_usage()"
   ]
  },
  {
   "cell_type": "code",
   "execution_count": 9,
   "id": "693c6b7f",
   "metadata": {},
   "outputs": [
    {
     "data": {
      "text/plain": [
       "12.581706110167445"
      ]
     },
     "execution_count": 9,
     "metadata": {},
     "output_type": "execute_result"
    }
   ],
   "source": [
    "line[len(line)-1]"
   ]
  },
  {
   "cell_type": "code",
   "execution_count": null,
   "id": "59f315f0",
   "metadata": {},
   "outputs": [],
   "source": []
  }
 ],
 "metadata": {
  "kernelspec": {
   "display_name": "Python 3 (ipykernel)",
   "language": "python",
   "name": "python3"
  },
  "language_info": {
   "codemirror_mode": {
    "name": "ipython",
    "version": 3
   },
   "file_extension": ".py",
   "mimetype": "text/x-python",
   "name": "python",
   "nbconvert_exporter": "python",
   "pygments_lexer": "ipython3",
   "version": "3.9.7"
  }
 },
 "nbformat": 4,
 "nbformat_minor": 5
}
